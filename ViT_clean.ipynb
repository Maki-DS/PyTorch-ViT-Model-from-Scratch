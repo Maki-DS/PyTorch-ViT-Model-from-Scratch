{
 "cells": [
  {
   "cell_type": "markdown",
   "metadata": {},
   "source": [
    "# Vision Transformers (ViT) from scratch in PyTorch"
   ]
  },
  {
   "cell_type": "code",
   "execution_count": 1,
   "metadata": {},
   "outputs": [
    {
     "name": "stderr",
     "output_type": "stream",
     "text": [
      "C:\\ProgramData\\Anaconda3\\envs\\game-RL\\lib\\site-packages\\torchvision\\io\\image.py:13: UserWarning: Failed to load image Python extension: [WinError 127] The specified procedure could not be found\n",
      "  warn(f\"Failed to load image Python extension: {e}\")\n"
     ]
    }
   ],
   "source": [
    "import torch\n",
    "import torch.nn as nn\n",
    "from torch.nn import functional as F\n",
    "import torchvision.transforms as transforms\n",
    "import numpy as np\n",
    "from PIL import Image"
   ]
  },
  {
   "cell_type": "code",
   "execution_count": 2,
   "metadata": {},
   "outputs": [
    {
     "name": "stdout",
     "output_type": "stream",
     "text": [
      "tensor([[[[0.0510, 0.1373, 0.1490,  ..., 0.0549, 0.1020, 0.0824],\n",
      "          [0.1176, 0.1137, 0.0510,  ..., 0.0667, 0.0863, 0.1059],\n",
      "          [0.1373, 0.1255, 0.0706,  ..., 0.0824, 0.0549, 0.0235],\n",
      "          ...,\n",
      "          [0.3176, 0.3765, 0.3059,  ..., 0.1451, 0.0392, 0.0824],\n",
      "          [0.2745, 0.3255, 0.2824,  ..., 0.1294, 0.0706, 0.0824],\n",
      "          [0.2745, 0.3137, 0.2471,  ..., 0.1882, 0.1412, 0.0980]],\n",
      "\n",
      "         [[0.3490, 0.3725, 0.3216,  ..., 0.2863, 0.4667, 0.6000],\n",
      "          [0.2863, 0.2392, 0.1882,  ..., 0.3804, 0.4824, 0.4627],\n",
      "          [0.2353, 0.2667, 0.2549,  ..., 0.5020, 0.5647, 0.4196],\n",
      "          ...,\n",
      "          [0.3255, 0.3804, 0.2980,  ..., 0.3961, 0.2902, 0.3020],\n",
      "          [0.2784, 0.3333, 0.2824,  ..., 0.4471, 0.2588, 0.2588],\n",
      "          [0.1922, 0.2627, 0.1137,  ..., 0.3922, 0.4000, 0.3725]],\n",
      "\n",
      "         [[0.3137, 0.1765, 0.1804,  ..., 0.2745, 0.3176, 0.4667],\n",
      "          [0.1686, 0.1765, 0.2314,  ..., 0.3490, 0.4039, 0.3765],\n",
      "          [0.2392, 0.2039, 0.2667,  ..., 0.4078, 0.4706, 0.3922],\n",
      "          ...,\n",
      "          [0.3647, 0.3137, 0.2667,  ..., 0.2980, 0.3529, 0.3333],\n",
      "          [0.3216, 0.3176, 0.2667,  ..., 0.3137, 0.3176, 0.1451],\n",
      "          [0.2118, 0.2078, 0.1216,  ..., 0.3608, 0.3765, 0.2706]]]])\n",
      "torch.Size([1, 3, 224, 224])\n"
     ]
    }
   ],
   "source": [
    "image = Image.open(\"n01498041_stingray.jpg\")\n",
    "\n",
    "# Define a transform to convert the image to tensor\n",
    "transform = transforms.Compose([\n",
    "    transforms.Resize((224,224)),\n",
    "    transforms.ToTensor(),\n",
    "])\n",
    "\n",
    "# Convert the image to PyTorch tensor\n",
    "image_tensor = transform(image)\n",
    "image_tensor = image_tensor.unsqueeze(0)\n",
    "\n",
    "# print the converted image tensor\n",
    "print(image_tensor)\n",
    "print(image_tensor.shape)"
   ]
  },
  {
   "cell_type": "code",
   "execution_count": 3,
   "metadata": {},
   "outputs": [],
   "source": [
    "image.show()"
   ]
  },
  {
   "cell_type": "markdown",
   "metadata": {},
   "source": [
    "# Tasks to build ViT architecture\n",
    "\n",
    "- Covert image into patches via learnable embeddings\n",
    "<p>&nbsp;</p>\n",
    "- Build transformer encoder layer matching described architecture:\n",
    "    - x -> LayerNorm -> Multi-Head Attention -> + -> LayerNorm -> MultiLayerPerceptron -> Out\n",
    "    - Include residual skip connections from input to \"+\" then from \"+\" to output \n",
    "<p>&nbsp;</p>\n",
    "- Assemble model\n",
    "    - Append learnable class embedding to position 0 and add positional embeddings to Transformer input\n",
    "    - Stack 12 transformer encoder layers sequentially\n",
    "<img src=\"https://production-media.paperswithcode.com/models/Screen_Shot_2021-02-14_at_2.26.57_PM_WBwCIco.png\" width=\"667\" height=\"376\">"
   ]
  },
  {
   "cell_type": "markdown",
   "metadata": {},
   "source": [
    "<h1>1: Patch Embeddings</h1>\n",
    "<p>&nbsp;</p>\n",
    "The embedding layer for Vision transformers are implemented by takeing the image $$x \\in \\mathbb{R}^{Height \\times Width \\times Channels}$$ as an input and segment it into N patches $$x_{p} \\in \\mathbb{R}^{N \\times (Patch ^{2} \\cdot Channels)}$$ Then we flatten the patches and use a linear projection to ensure its learnable (embedding) and can be fed into the transformer"
   ]
  },
  {
   "cell_type": "code",
   "execution_count": 4,
   "metadata": {},
   "outputs": [],
   "source": [
    "class Flatten(nn.Module):\n",
    "    \n",
    "    def __init__(self, start_dim, end_dim):\n",
    "        super().__init__()\n",
    "        self.start_dim = start_dim\n",
    "        self.end_dim = end_dim\n",
    "        \n",
    "    def __call__(self, x):\n",
    "        return x.flatten(self.start_dim, self.end_dim)"
   ]
  },
  {
   "cell_type": "code",
   "execution_count": 5,
   "metadata": {},
   "outputs": [],
   "source": [
    "# Utilise CNN module to pass over image and produce patches\n",
    "class PatchEmbedding(nn.Module):\n",
    "\n",
    "    def __init__(self, patch_size=16, in_chans=3, n_embd=768): # Hyperparameters from paper\n",
    "        super().__init__()\n",
    "        \n",
    "        self.patch_size = patch_size\n",
    "        # Conv2D layer acts as the learner\n",
    "        self.patcher = nn.Conv2d(\n",
    "                            in_channels = in_chans,\n",
    "                            out_channels = n_embd,\n",
    "                            kernel_size = patch_size, # kernal of patch size\n",
    "                            stride = patch_size, # stride ensures patches dont overlap\n",
    "                            padding = 0\n",
    "                            )\n",
    "        \n",
    "        # flatten dims for transformer\n",
    "        self.flatten = Flatten(start_dim=2, end_dim=3)\n",
    "        \n",
    "    def forward(self, x):\n",
    "        # asserts suitable patch size is chosen\n",
    "        img_res = x.shape[-1]\n",
    "        assert img_res % self.patch_size == 0, f'input image size must be exactly divisable by patch size'\n",
    "        \n",
    "        # make and flatten patches for transformer\n",
    "        x = self.patcher(x)\n",
    "        x = self.flatten(x)\n",
    "        \n",
    "        \n",
    "        return x.permute(0, 2, 1) # swaps last 2 dims to adhear to (batch, num_patches, Embedding[P^2•C])"
   ]
  },
  {
   "cell_type": "code",
   "execution_count": 6,
   "metadata": {},
   "outputs": [
    {
     "data": {
      "text/plain": [
       "torch.Size([1, 196, 768])"
      ]
     },
     "execution_count": 6,
     "metadata": {},
     "output_type": "execute_result"
    }
   ],
   "source": [
    "test_emb = PatchEmbedding()\n",
    "patched_x = test_emb(image_tensor)\n",
    "patched_x.shape"
   ]
  },
  {
   "cell_type": "markdown",
   "metadata": {},
   "source": [
    "<h2>2: Transformer Encoder Layer</h2>\n",
    "\n",
    "Components required:\n",
    "\n",
    "- Single headed self-attention mechanism (Needs Linear layer)\n",
    "- Concatenate multiple heads in parallel for multiheaded self attention\n",
    "- Layer Norm\n",
    "- MLP with one hidden layer\n",
    "- Create Block"
   ]
  },
  {
   "cell_type": "code",
   "execution_count": 7,
   "metadata": {},
   "outputs": [],
   "source": [
    "class Linear(nn.Module):\n",
    "    \n",
    "    def __init__(self, in_features: int, out_features: int, bias: bool=True) -> None:\n",
    "        super().__init__()\n",
    "        # Initialize weights and biases\n",
    "        self.weight = nn.Parameter(torch.randn((in_features, out_features)) * (in_features**-0.5)) # in_features**-1 = K\n",
    "        #use kaiming initialization to restrict weight dist between -sqrt(K) and sqrt(K)\n",
    "        self.bias = nn.Parameter(torch.zeros(out_features)) if bias else None\n",
    "        \n",
    "    def __call__(self, x):\n",
    "        # x•W + b\n",
    "        self.out = x @ self.weight\n",
    "        if self.bias is not None:\n",
    "              self.out += self.bias\n",
    "        return self.out"
   ]
  },
  {
   "cell_type": "code",
   "execution_count": 8,
   "metadata": {},
   "outputs": [],
   "source": [
    "class Head(nn.Module):\n",
    "    \n",
    "    def __init__(self, head_size, n_embd=768, dropout=0.1):\n",
    "        super().__init__()\n",
    "        \n",
    "        self.head_size = head_size\n",
    "\n",
    "        # Initialize keys, queries, values, and dropout layers\n",
    "        # Bias required to be true to match ViT pretrained parameters\n",
    "            # Bias = False provides better and faster performance\n",
    "        self.key = Linear(n_embd, head_size, bias=True)\n",
    "        self.query = Linear(n_embd, head_size, bias=True)\n",
    "        self.value = Linear(n_embd, head_size, bias=True)\n",
    "        self.dropout = nn.Dropout(dropout)\n",
    "        \n",
    "    def forward(self, x):\n",
    "        \n",
    "        # apply self-attention as described in Attention is all you need\n",
    "        \n",
    "        # create keys and values\n",
    "        k = self.key(x)\n",
    "        q = self.query(x)\n",
    "        \n",
    "        # Produce weight matrix from q and k communication\n",
    "        w = q @ k.transpose(-2, -1) * (self.head_size**-0.5)\n",
    "        w = F.softmax(w, dim=-1)\n",
    "        w = self.dropout(w)\n",
    "        \n",
    "        # use value layer to produce outputs\n",
    "        v = self.value(x)\n",
    "        out = w @ v\n",
    "        return out"
   ]
  },
  {
   "cell_type": "code",
   "execution_count": 9,
   "metadata": {},
   "outputs": [],
   "source": [
    "class MultiHeadAttention(nn.Module):\n",
    "    \n",
    "    def __init__(self, num_heads, head_size, n_embd=768, dropout=0.1):\n",
    "        super().__init__()\n",
    "        self.heads = nn.ModuleList([Head(head_size) for _ in range(num_heads)])\n",
    "        self.proj = Linear(n_embd, n_embd)\n",
    "        self.dropout = nn.Dropout(dropout)\n",
    "        \n",
    "    def forward(self, x):\n",
    "        # Concat head outputs along final dimention\n",
    "        out = torch.cat([h(x) for h in self.heads], dim = -1)\n",
    "        # Apply projection (not in paper but helps performance)\n",
    "        out = self.dropout(self.proj(out))\n",
    "        return out"
   ]
  },
  {
   "cell_type": "code",
   "execution_count": 10,
   "metadata": {},
   "outputs": [],
   "source": [
    "class LayerNorm(nn.Module):\n",
    "    def __init__(self, dim, eps=1e-5, momentum=0.1):\n",
    "        super().__init__()\n",
    "        self.eps = eps\n",
    "        self.gamma = nn.Parameter(torch.ones(dim))\n",
    "        self.beta = nn.Parameter(torch.zeros(dim))\n",
    "  \n",
    "    def __call__(self, x):\n",
    "        # calculate the forward pass\n",
    "        xmean = x.mean(1, keepdim=True) # batch mean\n",
    "        xvar = x.var(1, keepdim=True) # batch variance\n",
    "        xhat = (x - xmean) / torch.sqrt(xvar + self.eps) # normalize to unit variance\n",
    "        self.out = self.gamma * xhat + self.beta\n",
    "        \n",
    "        return self.out"
   ]
  },
  {
   "cell_type": "code",
   "execution_count": 11,
   "metadata": {},
   "outputs": [],
   "source": [
    "def gelu(x):\n",
    "    # gelu activation function\n",
    "    return 0.5 * x * (1.0 + torch.tanh(math.sqrt(2.0 / math.pi) * (x + 0.044715 * torch.pow(x, 3.0))))"
   ]
  },
  {
   "cell_type": "code",
   "execution_count": 12,
   "metadata": {},
   "outputs": [],
   "source": [
    "class MLP(nn.Module):\n",
    "    \n",
    "    def __init__(self, n_embd, mlp_size=3072, dropout=0.1):\n",
    "        super().__init__()\n",
    "        \n",
    "        self.net = nn.Sequential(\n",
    "            Linear(n_embd, mlp_size),\n",
    "            nn.GELU(),\n",
    "            Linear(mlp_size, n_embd),\n",
    "            nn.Dropout(dropout)\n",
    "        )\n",
    "        \n",
    "    def forward(self, x):\n",
    "        \n",
    "        return self.net(x)"
   ]
  },
  {
   "cell_type": "code",
   "execution_count": 13,
   "metadata": {},
   "outputs": [],
   "source": [
    "class EncoderBlock(nn.Module):\n",
    "    \n",
    "    def __init__(self, n_embd, n_head, mlp_size=3072):\n",
    "        super().__init__()\n",
    "        head_size = n_embd // n_head\n",
    "        # Multi-Head Attention\n",
    "        self.sa = MultiHeadAttention(n_head, head_size)\n",
    "        \n",
    "        # MLP\n",
    "        self.mlp = MLP(n_embd, mlp_size)\n",
    "        \n",
    "        # both layernorms\n",
    "        self.ln1 = LayerNorm(n_embd)\n",
    "        self.ln2 = LayerNorm(n_embd)\n",
    "    \n",
    "    def forward(self, x):\n",
    "        # residual connections\n",
    "        x = x + self.sa(self.ln1(x))\n",
    "        x = x + self.mlp(self.ln2(x))\n",
    "        return x"
   ]
  },
  {
   "cell_type": "markdown",
   "metadata": {},
   "source": [
    "<h2>3: Construct Model</h2>"
   ]
  },
  {
   "cell_type": "code",
   "execution_count": 14,
   "metadata": {},
   "outputs": [],
   "source": [
    "class vit(nn.Module):\n",
    "    \n",
    "    def __init__(self, n_embd = 768, encoder_blocks = 12, output_size=1000, patch_size=16, img_size=224):\n",
    "        super(vit, self).__init__()\n",
    "        \n",
    "        # Calculate number of patches\n",
    "        n_patches = (img_size**2) // patch_size**2\n",
    "        \n",
    "        # CNN Patch Embedding\n",
    "        self.embedding = PatchEmbedding(in_chans = 3, patch_size = 16, n_embd = 768)\n",
    "        \n",
    "        # Token needs to be applied across batch so is expanded in forward\n",
    "        self.class_emb = nn.Parameter(torch.randn((1, 1, n_embd)), requires_grad=True)\n",
    "        \n",
    "        # Positional Embedding (no need for sin cos positional embedding implementation as n_embd is small see Appendix)\n",
    "        self.pos_emb = nn.Parameter(torch.randn((1, n_patches+1, n_embd)), requires_grad=True)\n",
    "        \n",
    "        self.dropout = nn.Dropout(0.1)\n",
    "        \n",
    "        # Build encoder stack\n",
    "        self.encoder = nn.Sequential(*[EncoderBlock(n_embd = 768, n_head = 12, mlp_size = 3072) for i in range(encoder_blocks)])\n",
    "        \n",
    "        # Layer Norm + MLP for final prediction\n",
    "        self.norm = nn.LayerNorm(normalized_shape=n_embd)        \n",
    "        self.out = nn.Linear(n_embd, output_size)\n",
    "    \n",
    "    def forward(self, x):\n",
    "        \n",
    "        batch_dim = x.shape[0]\n",
    "        x = self.embedding(x)\n",
    "        \n",
    "        # Expand across batch\n",
    "        class_tokn = self.class_emb.expand(batch_dim, -1, -1)\n",
    "        x = torch.cat((x, class_tokn), 1)\n",
    "\n",
    "        x = self.pos_emb + x\n",
    "\n",
    "        x = self.dropout(x)\n",
    "        x = self.encoder(x)\n",
    "\n",
    "        # pass embedding token slice to final MLP\n",
    "        x = self.out(self.norm(x[:, 0, :]))\n",
    "\n",
    "        \n",
    "        return x"
   ]
  },
  {
   "cell_type": "code",
   "execution_count": 15,
   "metadata": {},
   "outputs": [],
   "source": [
    "x = vit()\n",
    "\n",
    "def get_n_params(model):\n",
    "    pp=0\n",
    "    for p in list(model.parameters()):\n",
    "        nn=1\n",
    "        for s in list(p.size()):\n",
    "            nn = nn*s\n",
    "        pp += nn\n",
    "    return pp"
   ]
  },
  {
   "cell_type": "code",
   "execution_count": 16,
   "metadata": {},
   "outputs": [
    {
     "data": {
      "text/plain": [
       "86567656"
      ]
     },
     "execution_count": 16,
     "metadata": {},
     "output_type": "execute_result"
    }
   ],
   "source": [
    "get_n_params(x)"
   ]
  },
  {
   "cell_type": "code",
   "execution_count": 17,
   "metadata": {},
   "outputs": [
    {
     "name": "stdout",
     "output_type": "stream",
     "text": [
      "Requirement already satisfied: torchinfo in c:\\programdata\\anaconda3\\envs\\game-rl\\lib\\site-packages (1.7.2)\n"
     ]
    },
    {
     "data": {
      "text/plain": [
       "======================================================================\n",
       "Layer (type:depth-idx)                        Param #\n",
       "======================================================================\n",
       "vit                                           152,064\n",
       "├─PatchEmbedding: 1-1                         --\n",
       "│    └─Conv2d: 2-1                            590,592\n",
       "│    └─Flatten: 2-2                           --\n",
       "├─Dropout: 1-2                                --\n",
       "├─Sequential: 1-3                             --\n",
       "│    └─EncoderBlock: 2-3                      --\n",
       "│    │    └─MultiHeadAttention: 3-1           2,362,368\n",
       "│    │    └─MLP: 3-2                          4,722,432\n",
       "│    │    └─LayerNorm: 3-3                    1,536\n",
       "│    │    └─LayerNorm: 3-4                    1,536\n",
       "│    └─EncoderBlock: 2-4                      --\n",
       "│    │    └─MultiHeadAttention: 3-5           2,362,368\n",
       "│    │    └─MLP: 3-6                          4,722,432\n",
       "│    │    └─LayerNorm: 3-7                    1,536\n",
       "│    │    └─LayerNorm: 3-8                    1,536\n",
       "│    └─EncoderBlock: 2-5                      --\n",
       "│    │    └─MultiHeadAttention: 3-9           2,362,368\n",
       "│    │    └─MLP: 3-10                         4,722,432\n",
       "│    │    └─LayerNorm: 3-11                   1,536\n",
       "│    │    └─LayerNorm: 3-12                   1,536\n",
       "│    └─EncoderBlock: 2-6                      --\n",
       "│    │    └─MultiHeadAttention: 3-13          2,362,368\n",
       "│    │    └─MLP: 3-14                         4,722,432\n",
       "│    │    └─LayerNorm: 3-15                   1,536\n",
       "│    │    └─LayerNorm: 3-16                   1,536\n",
       "│    └─EncoderBlock: 2-7                      --\n",
       "│    │    └─MultiHeadAttention: 3-17          2,362,368\n",
       "│    │    └─MLP: 3-18                         4,722,432\n",
       "│    │    └─LayerNorm: 3-19                   1,536\n",
       "│    │    └─LayerNorm: 3-20                   1,536\n",
       "│    └─EncoderBlock: 2-8                      --\n",
       "│    │    └─MultiHeadAttention: 3-21          2,362,368\n",
       "│    │    └─MLP: 3-22                         4,722,432\n",
       "│    │    └─LayerNorm: 3-23                   1,536\n",
       "│    │    └─LayerNorm: 3-24                   1,536\n",
       "│    └─EncoderBlock: 2-9                      --\n",
       "│    │    └─MultiHeadAttention: 3-25          2,362,368\n",
       "│    │    └─MLP: 3-26                         4,722,432\n",
       "│    │    └─LayerNorm: 3-27                   1,536\n",
       "│    │    └─LayerNorm: 3-28                   1,536\n",
       "│    └─EncoderBlock: 2-10                     --\n",
       "│    │    └─MultiHeadAttention: 3-29          2,362,368\n",
       "│    │    └─MLP: 3-30                         4,722,432\n",
       "│    │    └─LayerNorm: 3-31                   1,536\n",
       "│    │    └─LayerNorm: 3-32                   1,536\n",
       "│    └─EncoderBlock: 2-11                     --\n",
       "│    │    └─MultiHeadAttention: 3-33          2,362,368\n",
       "│    │    └─MLP: 3-34                         4,722,432\n",
       "│    │    └─LayerNorm: 3-35                   1,536\n",
       "│    │    └─LayerNorm: 3-36                   1,536\n",
       "│    └─EncoderBlock: 2-12                     --\n",
       "│    │    └─MultiHeadAttention: 3-37          2,362,368\n",
       "│    │    └─MLP: 3-38                         4,722,432\n",
       "│    │    └─LayerNorm: 3-39                   1,536\n",
       "│    │    └─LayerNorm: 3-40                   1,536\n",
       "│    └─EncoderBlock: 2-13                     --\n",
       "│    │    └─MultiHeadAttention: 3-41          2,362,368\n",
       "│    │    └─MLP: 3-42                         4,722,432\n",
       "│    │    └─LayerNorm: 3-43                   1,536\n",
       "│    │    └─LayerNorm: 3-44                   1,536\n",
       "│    └─EncoderBlock: 2-14                     --\n",
       "│    │    └─MultiHeadAttention: 3-45          2,362,368\n",
       "│    │    └─MLP: 3-46                         4,722,432\n",
       "│    │    └─LayerNorm: 3-47                   1,536\n",
       "│    │    └─LayerNorm: 3-48                   1,536\n",
       "├─LayerNorm: 1-4                              1,536\n",
       "├─Linear: 1-5                                 769,000\n",
       "======================================================================\n",
       "Total params: 86,567,656\n",
       "Trainable params: 86,567,656\n",
       "Non-trainable params: 0\n",
       "======================================================================"
      ]
     },
     "execution_count": 17,
     "metadata": {},
     "output_type": "execute_result"
    }
   ],
   "source": [
    "!pip install torchinfo\n",
    "\n",
    "from torchinfo import summary\n",
    "\n",
    "summary(x)"
   ]
  },
  {
   "cell_type": "markdown",
   "metadata": {},
   "source": [
    "We have achieved the correct number of trainable parameters to load pretrained weights"
   ]
  },
  {
   "cell_type": "code",
   "execution_count": 18,
   "metadata": {},
   "outputs": [],
   "source": [
    "rand = torch.randn(32, 3, 224, 224)\n",
    "\n",
    "ans = x(rand)"
   ]
  },
  {
   "cell_type": "markdown",
   "metadata": {},
   "source": [
    "When passing in a dummy image batch we see outputs with expected dims (batch_size, classes)"
   ]
  },
  {
   "cell_type": "code",
   "execution_count": 19,
   "metadata": {},
   "outputs": [
    {
     "name": "stdout",
     "output_type": "stream",
     "text": [
      "torch.Size([32, 1000])\n",
      "[tensor(898), tensor(740), tensor(903), tensor(903), tensor(313), tensor(658), tensor(740), tensor(733), tensor(959), tensor(733), tensor(903), tensor(901), tensor(571), tensor(733), tensor(733), tensor(424), tensor(959), tensor(700), tensor(733), tensor(733), tensor(8), tensor(424), tensor(712), tensor(318), tensor(510), tensor(54), tensor(318), tensor(109), tensor(420), tensor(109), tensor(612), tensor(794)]\n"
     ]
    }
   ],
   "source": [
    "print(ans.shape)\n",
    "print([torch.argmax(ans[i,:]) for i in range(32)])"
   ]
  },
  {
   "cell_type": "markdown",
   "metadata": {},
   "source": [
    "## Appendix\n",
    "### Sin  Cos positional embedding (Attention Is All You Need)"
   ]
  },
  {
   "cell_type": "markdown",
   "metadata": {},
   "source": [
    "As described in Attention Is All You Need we can encode the positions using the following formulas:\n",
    "\n",
    "$$PE_{(pos,2i)} = \\sin\\left(\\frac{pos}{10000^{\\frac{2i}{d_{model}}}}\\right)$$\n",
    "and\n",
    "$$PE_{(pos,2i+1)} = \\cos\\left(\\frac{pos}{10000^{\\frac{2i}{d_{model}}}}\\right)$$\n",
    "where pos is the position and i is the dimention. This allows the model to learn to learn by relative positions and allows the model to extrapolate to sequence lengths longer than the ones encountered\n",
    "during training."
   ]
  },
  {
   "cell_type": "code",
   "execution_count": 20,
   "metadata": {},
   "outputs": [],
   "source": [
    "import numpy as np\n",
    "from scipy.spatial.distance import cosine\n",
    "import matplotlib.pyplot as plt"
   ]
  },
  {
   "cell_type": "code",
   "execution_count": 21,
   "metadata": {},
   "outputs": [],
   "source": [
    "class PositionalEncoding(nn.Module):\n",
    "    \n",
    "    def __init__(self, d_model, dropout=0.1, max_seq_len=100, device='cpu'):\n",
    "        super().__init__()\n",
    "        self.d_model = d_model\n",
    "        self.dropout = nn.Dropout(dropout)\n",
    "        \n",
    "        pe = torch.zeros(max_seq_len, d_model).to(device)\n",
    "        pos = torch.arange(0, max_seq_len).unsqueeze(1).float()\n",
    "        \n",
    "        two_i = torch.arange(0, d_model, step=2).float()\n",
    "        div_term = torch.pow(10_000, two_i/torch.tensor([d_model])).float()\n",
    "        pe[1:, 0::2] = torch.sin(pos/div_term)\n",
    "        pe[1:, 1::2] = torch.sin(pos/div_term)\n",
    "        \n",
    "        pe = pe.unsqueeze(0)\n",
    "        \n",
    "        self.register_buffer('pe', pe)\n",
    "        \n",
    "    def forward(self, x):\n",
    "        \n",
    "        pe = self.pe[:, :x.shape[1]].detatch() # not a learnable parameter\n",
    "        x = x.add(pe)\n",
    "        \n",
    "        return self.dropout(x)"
   ]
  },
  {
   "cell_type": "code",
   "execution_count": 22,
   "metadata": {},
   "outputs": [],
   "source": [
    "d_model = 512\n",
    "positions = 100\n",
    "z = 2/d_model"
   ]
  },
  {
   "cell_type": "code",
   "execution_count": 23,
   "metadata": {},
   "outputs": [
    {
     "name": "stdout",
     "output_type": "stream",
     "text": [
      "(100, 512)\n"
     ]
    }
   ],
   "source": [
    "position_enc = np.array([\n",
    "    [pos / np.power(10000, 2 * i / d_model) for i in range(d_model)] if (pos!=0) else np.zeros(d_model) for pos in range(0, positions)\n",
    "])\n",
    "\n",
    "position_enc[1:, 0::2] = np.sin(position_enc[1:, 0::2])\n",
    "position_enc[1:, 1::2] = np.cos(position_enc[1:, 1::2])\n",
    "#torch.cos\n",
    "\n",
    "x = np.arange(0, positions)\n",
    "emb = position_enc[x]\n",
    "print(emb.shape)"
   ]
  },
  {
   "cell_type": "code",
   "execution_count": 24,
   "metadata": {},
   "outputs": [
    {
     "data": {
      "text/plain": [
       "[<matplotlib.lines.Line2D at 0x23b33260400>]"
      ]
     },
     "execution_count": 24,
     "metadata": {},
     "output_type": "execute_result"
    },
    {
     "data": {
      "image/png": "[encoded data removed]",
      "text/plain": [
       "<Figure size 640x480 with 1 Axes>"
      ]
     },
     "metadata": {},
     "output_type": "display_data"
    }
   ],
   "source": [
    "pos1 = position_enc[1]\n",
    "pos2 = position_enc[2]\n",
    "pos10 = position_enc[10]\n",
    "\n",
    "cos = []\n",
    "for i in range(1, 100):\n",
    "    cos.append(cosine(position_enc[1], position_enc[i]))\n",
    "    \n",
    "plt.plot(cos)"
   ]
  },
  {
   "cell_type": "code",
   "execution_count": 25,
   "metadata": {},
   "outputs": [
    {
     "data": {
      "image/png": "[encoded data removed]",
      "text/plain": [
       "<Figure size 1600x1000 with 2 Axes>"
      ]
     },
     "metadata": {},
     "output_type": "display_data"
    }
   ],
   "source": [
    "plt.figure(figsize=(16, 10))\n",
    "plt.pcolormesh(emb)\n",
    "plt.xlabel('Positional Embeddings')\n",
    "plt.ylabel('Token Position')\n",
    "plt.xlim(0, d_model)\n",
    "plt.ylim(positions, 0)\n",
    "plt.colorbar(orientation='horizontal', shrink=.75) \n",
    "plt.show()"
   ]
  }
 ],
 "metadata": {
  "kernelspec": {
   "display_name": "Python 3 (ipykernel)",
   "language": "python",
   "name": "python3"
  },
  "language_info": {
   "codemirror_mode": {
    "name": "ipython",
    "version": 3
   },
   "file_extension": ".py",
   "mimetype": "text/x-python",
   "name": "python",
   "nbconvert_exporter": "python",
   "pygments_lexer": "ipython3",
   "version": "3.9.16"
  }
 },
 "nbformat": 4,
 "nbformat_minor": 2
}
